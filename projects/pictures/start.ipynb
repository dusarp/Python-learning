{
 "cells": [
  {
   "cell_type": "code",
   "execution_count": 1,
   "metadata": {},
   "outputs": [],
   "source": [
    "from PIL import Image"
   ]
  },
  {
   "cell_type": "code",
   "execution_count": 2,
   "metadata": {},
   "outputs": [],
   "source": [
    "image = Image.open(\"image.jpg\") "
   ]
  },
  {
   "cell_type": "code",
   "execution_count": 3,
   "metadata": {},
   "outputs": [],
   "source": [
    "from PIL import ImageShow"
   ]
  },
  {
   "cell_type": "code",
   "execution_count": 4,
   "metadata": {},
   "outputs": [
    {
     "data": {
      "text/plain": [
       "True"
      ]
     },
     "execution_count": 4,
     "metadata": {},
     "output_type": "execute_result"
    }
   ],
   "source": [
    "ImageShow.show(image)"
   ]
  },
  {
   "cell_type": "code",
   "execution_count": 5,
   "metadata": {},
   "outputs": [
    {
     "name": "stdout",
     "output_type": "stream",
     "text": [
      "Image resolution: 640x397 pixels\n",
      "Image format: JPEG\n",
      "Image mode: RGB\n"
     ]
    }
   ],
   "source": [
    "# Get image size (width, height) as a tuple\n",
    "width, height = image.size\n",
    "\n",
    "# Access other image properties\n",
    "format = image.format  # Image format (e.g., JPEG, PNG)\n",
    "mode = image.mode  # Color mode (e.g., RGB, grayscale)\n",
    "\n",
    "print(f\"Image resolution: {width}x{height} pixels\")\n",
    "print(f\"Image format: {format}\")\n",
    "print(f\"Image mode: {mode}\")"
   ]
  },
  {
   "cell_type": "code",
   "execution_count": 9,
   "metadata": {},
   "outputs": [
    {
     "name": "stdout",
     "output_type": "stream",
     "text": [
      "640\n",
      "397\n"
     ]
    }
   ],
   "source": [
    "print(width)\n",
    "print(height)"
   ]
  },
  {
   "cell_type": "code",
   "execution_count": 16,
   "metadata": {},
   "outputs": [
    {
     "name": "stdout",
     "output_type": "stream",
     "text": [
      "320\n",
      "<class 'int'>\n",
      "198\n",
      "<class 'int'>\n"
     ]
    }
   ],
   "source": [
    "new_width = round(width/2)\n",
    "new_height = round(height/2)\n",
    "print(new_width)\n",
    "print(type(new_width))\n",
    "print(new_height)\n",
    "print(type(new_height))"
   ]
  },
  {
   "cell_type": "code",
   "execution_count": 7,
   "metadata": {},
   "outputs": [
    {
     "data": {
      "text/plain": [
       "True"
      ]
     },
     "execution_count": 7,
     "metadata": {},
     "output_type": "execute_result"
    }
   ],
   "source": [
    "# Resize the image\n",
    "#aspect ratio nich preserved\n",
    "resized_image = image.resize((256, 256))  # Resize to 256x256 pixels\n",
    "ImageShow.show(resized_image)"
   ]
  },
  {
   "cell_type": "code",
   "execution_count": 17,
   "metadata": {},
   "outputs": [
    {
     "data": {
      "text/plain": [
       "True"
      ]
     },
     "execution_count": 17,
     "metadata": {},
     "output_type": "execute_result"
    }
   ],
   "source": [
    "#esize with preserved aspect ration\n",
    "resized_image_aspect_ratio = image.resize((new_width,new_height))\n",
    "ImageShow.show(resized_image_aspect_ratio)"
   ]
  },
  {
   "cell_type": "code",
   "execution_count": 18,
   "metadata": {},
   "outputs": [
    {
     "name": "stdout",
     "output_type": "stream",
     "text": [
      "The resized image has been saved\n"
     ]
    }
   ],
   "source": [
    "#save the resized image \n",
    "resized_image_aspect_ratio.save(\"image_resized.jpg\")\n",
    "print(\"The resized image has been saved\")\n"
   ]
  },
  {
   "cell_type": "code",
   "execution_count": null,
   "metadata": {},
   "outputs": [],
   "source": [
    "# Convert to grayscale\n",
    "grayscale_image = resized_image.convert('L')  # 'L' for grayscale mode"
   ]
  },
  {
   "cell_type": "code",
   "execution_count": null,
   "metadata": {},
   "outputs": [],
   "source": [
    "# Save the manipulated image\n",
    "grayscale_image.save(\"grayscale_image.jpg\")"
   ]
  },
  {
   "cell_type": "code",
   "execution_count": 9,
   "metadata": {},
   "outputs": [
    {
     "data": {
      "text/plain": [
       "True"
      ]
     },
     "execution_count": 9,
     "metadata": {},
     "output_type": "execute_result"
    }
   ],
   "source": [
    "#rotating an image\n",
    "\n",
    "# Open the image\n",
    "#image = Image.open(\"image.jpg\")\n",
    "\n",
    "# Rotate the image by 45 degrees counter-clockwise\n",
    "angle = 45\n",
    "rotated_image = image.rotate(angle)\n",
    "\n",
    "# Save the rotated image\n",
    "#rotated_image.save(\"rotated_image.jpg\")\n",
    "#show\n",
    "ImageShow.show(rotated_image)"
   ]
  },
  {
   "cell_type": "code",
   "execution_count": 25,
   "metadata": {},
   "outputs": [],
   "source": [
    "#Watermark\n",
    "from PIL import Image, ImageDraw, ImageFont\n",
    "\n",
    "# Create an Image Object from an Image\n",
    "im = Image.open('image.jpg')\n",
    "width, height = im.size\n",
    "\n",
    "draw = ImageDraw.Draw(im)\n",
    "text = \"dusarpa photo\"\n",
    "\n",
    "font = ImageFont.truetype('arial.ttf', 24)\n",
    "textwidth = draw.textlength(text, font)  # Use textlength instead of textsize\n",
    "\n",
    "# Calculate the x coordinate (text height calculation remains the same)\n",
    "margin = 10\n",
    "x = width - textwidth - margin\n",
    "y = height - font.size  # Use font.size for text height\n",
    "\n",
    "# Draw watermark in the bottom right corner\n",
    "draw.text((x, y), text, font=font)\n",
    "im.show()\n",
    "\n",
    "# Save watermarked image\n",
    "#im.save('images/watermark.jpg')\n"
   ]
  },
  {
   "cell_type": "code",
   "execution_count": 26,
   "metadata": {},
   "outputs": [
    {
     "name": "stdout",
     "output_type": "stream",
     "text": [
      "[[[191 192 212]\n",
      "  [191 192 212]\n",
      "  [191 192 212]\n",
      "  ...\n",
      "  [201 201 209]\n",
      "  [198 198 206]\n",
      "  [199 199 207]]\n",
      "\n",
      " [[189 190 210]\n",
      "  [189 190 210]\n",
      "  [189 190 208]\n",
      "  ...\n",
      "  [195 195 203]\n",
      "  [196 196 204]\n",
      "  [200 200 208]]\n",
      "\n",
      " [[188 189 207]\n",
      "  [188 189 207]\n",
      "  [188 189 207]\n",
      "  ...\n",
      "  [200 200 208]\n",
      "  [200 200 208]\n",
      "  [202 202 210]]\n",
      "\n",
      " ...\n",
      "\n",
      " [[108 112 147]\n",
      "  [121 126 156]\n",
      "  [125 132 158]\n",
      "  ...\n",
      "  [153 149 148]\n",
      "  [155 151 150]\n",
      "  [152 148 147]]\n",
      "\n",
      " [[ 76  80 115]\n",
      "  [105 110 140]\n",
      "  [129 135 161]\n",
      "  ...\n",
      "  [167 162 159]\n",
      "  [166 161 158]\n",
      "  [159 154 151]]\n",
      "\n",
      " [[ 68  71 106]\n",
      "  [101 104 135]\n",
      "  [125 131 157]\n",
      "  ...\n",
      "  [179 171 168]\n",
      "  [173 165 162]\n",
      "  [162 154 151]]]\n"
     ]
    }
   ],
   "source": [
    "#creating numpy array from an image\n",
    "#from PIL import Image\n",
    "from numpy import array\n",
    "\n",
    "#Open Image & create image object\n",
    "img = Image.open('image.jpg')\n",
    "\n",
    "#Show actual image\n",
    "img.show()\n",
    "\n",
    "#Convert an image to numpy array\n",
    "img2arr = array(img)\n",
    "\n",
    "#Print the array\n",
    "print(img2arr)\n",
    "\n",
    "#Convert numpy array back to image\n",
    "#arr2im = Image.fromarray(img2arr)\n",
    "\n",
    "#Display image\n",
    "#arr2im.show()\n",
    "\n",
    "#Save the image generated from an array\n",
    "#arr2im.save(\"array2Image.jpg\")"
   ]
  },
  {
   "cell_type": "code",
   "execution_count": 31,
   "metadata": {},
   "outputs": [
    {
     "data": {
      "text/plain": [
       "(397, 640, 3)"
      ]
     },
     "execution_count": 31,
     "metadata": {},
     "output_type": "execute_result"
    },
    {
     "name": "stderr",
     "output_type": "stream",
     "text": [
      "\n",
      "** (gdk-pixbuf-thumbnailer:27219): WARNING **: 22:26:51.275: Could not thumbnail 'file:///tmp/.com.google.Chrome.BUs7IJ': Error interpreting JPEG image file (Improper call to JPEG library in state 205)\n"
     ]
    }
   ],
   "source": [
    "img2arr.shape"
   ]
  },
  {
   "cell_type": "code",
   "execution_count": null,
   "metadata": {},
   "outputs": [],
   "source": []
  }
 ],
 "metadata": {
  "kernelspec": {
   "display_name": "pictures-start",
   "language": "python",
   "name": "python3"
  },
  "language_info": {
   "codemirror_mode": {
    "name": "ipython",
    "version": 3
   },
   "file_extension": ".py",
   "mimetype": "text/x-python",
   "name": "python",
   "nbconvert_exporter": "python",
   "pygments_lexer": "ipython3",
   "version": "3.12.2"
  }
 },
 "nbformat": 4,
 "nbformat_minor": 2
}
