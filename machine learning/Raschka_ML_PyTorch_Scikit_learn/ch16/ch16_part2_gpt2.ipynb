{
 "cells": [
  {
   "cell_type": "code",
   "execution_count": 3,
   "metadata": {},
   "outputs": [],
   "source": [
    "#precheck\n",
    "#from transformers import pipeline, set_seed\n",
    "#from transformers import GPT2Tokenizer\n",
    "#from transformers import GPT2Model"
   ]
  },
  {
   "cell_type": "code",
   "execution_count": 2,
   "metadata": {},
   "outputs": [
    {
     "name": "stdout",
     "output_type": "stream",
     "text": [
      "kis galiba van, ha gond lesz, akkor leszedem az egesz Raschka-book enviromentet es felteszem ujra + a legkozelebbi transformerst manualisan installalom\n"
     ]
    }
   ],
   "source": [
    "print('kis galiba van, ha gond lesz, akkor leszedem az egesz Raschka-book enviromentet es felteszem ujra + a legkozelebbi transformerst manualisan installalom')"
   ]
  },
  {
   "cell_type": "code",
   "execution_count": null,
   "metadata": {},
   "outputs": [],
   "source": [
    "#Using GPT-2 to generate text"
   ]
  },
  {
   "cell_type": "code",
   "execution_count": 4,
   "metadata": {},
   "outputs": [
    {
     "name": "stderr",
     "output_type": "stream",
     "text": [
      "config.json: 100%|██████████| 665/665 [00:00<00:00, 57.8kB/s]\n",
      "model.safetensors: 100%|██████████| 548M/548M [02:14<00:00, 4.08MB/s] \n",
      "generation_config.json: 100%|██████████| 124/124 [00:00<00:00, 8.08kB/s]\n",
      "tokenizer_config.json: 100%|██████████| 26.0/26.0 [00:00<00:00, 7.51kB/s]\n",
      "vocab.json: 100%|██████████| 1.04M/1.04M [00:00<00:00, 2.10MB/s]\n",
      "merges.txt: 100%|██████████| 456k/456k [00:00<00:00, 1.29MB/s]\n",
      "tokenizer.json: 100%|██████████| 1.36M/1.36M [00:00<00:00, 1.93MB/s]\n",
      "Truncation was not explicitly activated but `max_length` is provided a specific value, please use `truncation=True` to explicitly truncate examples to max length. Defaulting to 'longest_first' truncation strategy. If you encode pairs of sequences (GLUE-style) with the tokenizer you can select this strategy more precisely by providing a specific strategy to `truncation`.\n",
      "Setting `pad_token_id` to `eos_token_id`:50256 for open-end generation.\n"
     ]
    },
    {
     "data": {
      "text/plain": [
       "[{'generated_text': \"Hey readers, today is not the last time we'll be seeing one of our favorite indie rock bands\"},\n",
       " {'generated_text': 'Hey readers, today is Christmas. This is not Christmas, because Christmas is so long and I hope'},\n",
       " {'generated_text': \"Hey readers, today is CTA Day!\\n\\nWe're proud to be hosting a special event\"}]"
      ]
     },
     "execution_count": 4,
     "metadata": {},
     "output_type": "execute_result"
    }
   ],
   "source": [
    "from transformers import pipeline, set_seed\n",
    "\n",
    "generator = pipeline('text-generation', model='gpt2')\n",
    "set_seed(123)\n",
    "generator(\"Hey readers, today is\",\n",
    "          max_length=20,\n",
    "          num_return_sequences=3)"
   ]
  },
  {
   "cell_type": "code",
   "execution_count": 6,
   "metadata": {},
   "outputs": [
    {
     "name": "stderr",
     "output_type": "stream",
     "text": [
      "Truncation was not explicitly activated but `max_length` is provided a specific value, please use `truncation=True` to explicitly truncate examples to max length. Defaulting to 'longest_first' truncation strategy. If you encode pairs of sequences (GLUE-style) with the tokenizer you can select this strategy more precisely by providing a specific strategy to `truncation`.\n",
      "Setting `pad_token_id` to `eos_token_id`:50256 for open-end generation.\n"
     ]
    },
    {
     "data": {
      "text/plain": [
       "[{'generated_text': 'My baby is late because he\\'s been at my house for six months now.\" He also claimed the phone had become so loud, that it kept ringing'},\n",
       " {'generated_text': 'My baby is late because I\\'m so exhausted that I\\'m not going to get back to work until he grows up again.\"\\n\\nBut a week'},\n",
       " {'generated_text': 'My baby is late because I don\\'t like to talk about it much.\"\\n\\nShe said: \\'My babies were in the car for two hours'},\n",
       " {'generated_text': 'My baby is late because I am going on vacation, but I hope I will be available for two days.\" At the time, he wrote, he'},\n",
       " {'generated_text': 'My baby is late because it is my first one,\" I said.\\n\\n\\n\"I am too young to know anything of my mother,\" her teacher'}]"
      ]
     },
     "execution_count": 6,
     "metadata": {},
     "output_type": "execute_result"
    }
   ],
   "source": [
    "generator = pipeline('text-generation', model='gpt2')\n",
    "set_seed(123)\n",
    "generator(\"My baby is late because\",\n",
    "          max_length=30,\n",
    "          num_return_sequences=5)"
   ]
  },
  {
   "cell_type": "code",
   "execution_count": 7,
   "metadata": {},
   "outputs": [
    {
     "data": {
      "text/plain": [
       "{'input_ids': tensor([[ 5756,   514, 37773,   428,  6827]]), 'attention_mask': tensor([[1, 1, 1, 1, 1]])}"
      ]
     },
     "execution_count": 7,
     "metadata": {},
     "output_type": "execute_result"
    }
   ],
   "source": [
    "from transformers import GPT2Tokenizer\n",
    "\n",
    "tokenizer = GPT2Tokenizer.from_pretrained('gpt2')\n",
    "text = \"Let us encode this sentence\"\n",
    "encoded_input = tokenizer(text, return_tensors='pt')\n",
    "encoded_input"
   ]
  },
  {
   "cell_type": "code",
   "execution_count": 8,
   "metadata": {},
   "outputs": [
    {
     "data": {
      "text/plain": [
       "torch.Size([1, 5, 768])"
      ]
     },
     "execution_count": 8,
     "metadata": {},
     "output_type": "execute_result"
    }
   ],
   "source": [
    "from transformers import GPT2Model\n",
    "model = GPT2Model.from_pretrained('gpt2')\n",
    "output = model(**encoded_input)\n",
    "output['last_hidden_state'].shape"
   ]
  },
  {
   "cell_type": "code",
   "execution_count": null,
   "metadata": {},
   "outputs": [],
   "source": []
  }
 ],
 "metadata": {
  "kernelspec": {
   "display_name": "Raschka-book",
   "language": "python",
   "name": "python3"
  },
  "language_info": {
   "codemirror_mode": {
    "name": "ipython",
    "version": 3
   },
   "file_extension": ".py",
   "mimetype": "text/x-python",
   "name": "python",
   "nbconvert_exporter": "python",
   "pygments_lexer": "ipython3",
   "version": "3.9.18"
  }
 },
 "nbformat": 4,
 "nbformat_minor": 2
}
